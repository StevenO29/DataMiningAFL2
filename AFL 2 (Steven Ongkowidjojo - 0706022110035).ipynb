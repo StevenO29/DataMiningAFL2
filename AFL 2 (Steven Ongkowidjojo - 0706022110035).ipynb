{
 "cells": [
  {
   "cell_type": "markdown",
   "metadata": {},
   "source": [
    "# AFL 2 Data Mining\n",
    "\n",
    "Nama : Steven Ongkowidjojo\n",
    "NIM : 0706022110035"
   ]
  },
  {
   "cell_type": "code",
   "execution_count": 1,
   "metadata": {},
   "outputs": [],
   "source": [
    "import pandas as pd\n",
    "import numpy as np\n",
    "import matplotlib.pyplot as plt\n",
    "import seaborn as sns\n",
    "from sklearn.preprocessing import StandardScaler\n",
    "from sklearn.cluster import AgglomerativeClustering\n",
    "from sklearn.metrics import silhouette_score\n",
    "#from kneed import KneeLocator"
   ]
  },
  {
   "cell_type": "code",
   "execution_count": 2,
   "metadata": {},
   "outputs": [
    {
     "data": {
      "text/html": [
       "<div>\n",
       "<style scoped>\n",
       "    .dataframe tbody tr th:only-of-type {\n",
       "        vertical-align: middle;\n",
       "    }\n",
       "\n",
       "    .dataframe tbody tr th {\n",
       "        vertical-align: top;\n",
       "    }\n",
       "\n",
       "    .dataframe thead th {\n",
       "        text-align: right;\n",
       "    }\n",
       "</style>\n",
       "<table border=\"1\" class=\"dataframe\">\n",
       "  <thead>\n",
       "    <tr style=\"text-align: right;\">\n",
       "      <th></th>\n",
       "      <th>Year_Birth</th>\n",
       "      <th>Education</th>\n",
       "      <th>Marital_Status</th>\n",
       "      <th>Income</th>\n",
       "      <th>Kidhome</th>\n",
       "      <th>Teenhome</th>\n",
       "      <th>Dt_Customer</th>\n",
       "      <th>Recency</th>\n",
       "      <th>MntWines</th>\n",
       "      <th>MntFruits</th>\n",
       "      <th>...</th>\n",
       "      <th>NumWebVisitsMonth</th>\n",
       "      <th>AcceptedCmp3</th>\n",
       "      <th>AcceptedCmp4</th>\n",
       "      <th>AcceptedCmp5</th>\n",
       "      <th>AcceptedCmp1</th>\n",
       "      <th>AcceptedCmp2</th>\n",
       "      <th>Complain</th>\n",
       "      <th>Z_CostContact</th>\n",
       "      <th>Z_Revenue</th>\n",
       "      <th>Response</th>\n",
       "    </tr>\n",
       "    <tr>\n",
       "      <th>ID</th>\n",
       "      <th></th>\n",
       "      <th></th>\n",
       "      <th></th>\n",
       "      <th></th>\n",
       "      <th></th>\n",
       "      <th></th>\n",
       "      <th></th>\n",
       "      <th></th>\n",
       "      <th></th>\n",
       "      <th></th>\n",
       "      <th></th>\n",
       "      <th></th>\n",
       "      <th></th>\n",
       "      <th></th>\n",
       "      <th></th>\n",
       "      <th></th>\n",
       "      <th></th>\n",
       "      <th></th>\n",
       "      <th></th>\n",
       "      <th></th>\n",
       "      <th></th>\n",
       "    </tr>\n",
       "  </thead>\n",
       "  <tbody>\n",
       "    <tr>\n",
       "      <th>5524</th>\n",
       "      <td>1957</td>\n",
       "      <td>Graduation</td>\n",
       "      <td>Single</td>\n",
       "      <td>58138.0</td>\n",
       "      <td>0</td>\n",
       "      <td>0</td>\n",
       "      <td>04-09-2012</td>\n",
       "      <td>58</td>\n",
       "      <td>635</td>\n",
       "      <td>88</td>\n",
       "      <td>...</td>\n",
       "      <td>7</td>\n",
       "      <td>0</td>\n",
       "      <td>0</td>\n",
       "      <td>0</td>\n",
       "      <td>0</td>\n",
       "      <td>0</td>\n",
       "      <td>0</td>\n",
       "      <td>3</td>\n",
       "      <td>11</td>\n",
       "      <td>1</td>\n",
       "    </tr>\n",
       "    <tr>\n",
       "      <th>2174</th>\n",
       "      <td>1954</td>\n",
       "      <td>Graduation</td>\n",
       "      <td>Single</td>\n",
       "      <td>46344.0</td>\n",
       "      <td>1</td>\n",
       "      <td>1</td>\n",
       "      <td>08-03-2014</td>\n",
       "      <td>38</td>\n",
       "      <td>11</td>\n",
       "      <td>1</td>\n",
       "      <td>...</td>\n",
       "      <td>5</td>\n",
       "      <td>0</td>\n",
       "      <td>0</td>\n",
       "      <td>0</td>\n",
       "      <td>0</td>\n",
       "      <td>0</td>\n",
       "      <td>0</td>\n",
       "      <td>3</td>\n",
       "      <td>11</td>\n",
       "      <td>0</td>\n",
       "    </tr>\n",
       "    <tr>\n",
       "      <th>4141</th>\n",
       "      <td>1965</td>\n",
       "      <td>Graduation</td>\n",
       "      <td>Together</td>\n",
       "      <td>71613.0</td>\n",
       "      <td>0</td>\n",
       "      <td>0</td>\n",
       "      <td>21-08-2013</td>\n",
       "      <td>26</td>\n",
       "      <td>426</td>\n",
       "      <td>49</td>\n",
       "      <td>...</td>\n",
       "      <td>4</td>\n",
       "      <td>0</td>\n",
       "      <td>0</td>\n",
       "      <td>0</td>\n",
       "      <td>0</td>\n",
       "      <td>0</td>\n",
       "      <td>0</td>\n",
       "      <td>3</td>\n",
       "      <td>11</td>\n",
       "      <td>0</td>\n",
       "    </tr>\n",
       "    <tr>\n",
       "      <th>6182</th>\n",
       "      <td>1984</td>\n",
       "      <td>Graduation</td>\n",
       "      <td>Together</td>\n",
       "      <td>26646.0</td>\n",
       "      <td>1</td>\n",
       "      <td>0</td>\n",
       "      <td>10-02-2014</td>\n",
       "      <td>26</td>\n",
       "      <td>11</td>\n",
       "      <td>4</td>\n",
       "      <td>...</td>\n",
       "      <td>6</td>\n",
       "      <td>0</td>\n",
       "      <td>0</td>\n",
       "      <td>0</td>\n",
       "      <td>0</td>\n",
       "      <td>0</td>\n",
       "      <td>0</td>\n",
       "      <td>3</td>\n",
       "      <td>11</td>\n",
       "      <td>0</td>\n",
       "    </tr>\n",
       "    <tr>\n",
       "      <th>5324</th>\n",
       "      <td>1981</td>\n",
       "      <td>PhD</td>\n",
       "      <td>Married</td>\n",
       "      <td>58293.0</td>\n",
       "      <td>1</td>\n",
       "      <td>0</td>\n",
       "      <td>19-01-2014</td>\n",
       "      <td>94</td>\n",
       "      <td>173</td>\n",
       "      <td>43</td>\n",
       "      <td>...</td>\n",
       "      <td>5</td>\n",
       "      <td>0</td>\n",
       "      <td>0</td>\n",
       "      <td>0</td>\n",
       "      <td>0</td>\n",
       "      <td>0</td>\n",
       "      <td>0</td>\n",
       "      <td>3</td>\n",
       "      <td>11</td>\n",
       "      <td>0</td>\n",
       "    </tr>\n",
       "  </tbody>\n",
       "</table>\n",
       "<p>5 rows × 28 columns</p>\n",
       "</div>"
      ],
      "text/plain": [
       "      Year_Birth   Education Marital_Status   Income  Kidhome  Teenhome  \\\n",
       "ID                                                                        \n",
       "5524        1957  Graduation         Single  58138.0        0         0   \n",
       "2174        1954  Graduation         Single  46344.0        1         1   \n",
       "4141        1965  Graduation       Together  71613.0        0         0   \n",
       "6182        1984  Graduation       Together  26646.0        1         0   \n",
       "5324        1981         PhD        Married  58293.0        1         0   \n",
       "\n",
       "     Dt_Customer  Recency  MntWines  MntFruits  ...  NumWebVisitsMonth  \\\n",
       "ID                                              ...                      \n",
       "5524  04-09-2012       58       635         88  ...                  7   \n",
       "2174  08-03-2014       38        11          1  ...                  5   \n",
       "4141  21-08-2013       26       426         49  ...                  4   \n",
       "6182  10-02-2014       26        11          4  ...                  6   \n",
       "5324  19-01-2014       94       173         43  ...                  5   \n",
       "\n",
       "      AcceptedCmp3  AcceptedCmp4  AcceptedCmp5  AcceptedCmp1  AcceptedCmp2  \\\n",
       "ID                                                                           \n",
       "5524             0             0             0             0             0   \n",
       "2174             0             0             0             0             0   \n",
       "4141             0             0             0             0             0   \n",
       "6182             0             0             0             0             0   \n",
       "5324             0             0             0             0             0   \n",
       "\n",
       "      Complain  Z_CostContact  Z_Revenue  Response  \n",
       "ID                                                  \n",
       "5524         0              3         11         1  \n",
       "2174         0              3         11         0  \n",
       "4141         0              3         11         0  \n",
       "6182         0              3         11         0  \n",
       "5324         0              3         11         0  \n",
       "\n",
       "[5 rows x 28 columns]"
      ]
     },
     "execution_count": 2,
     "metadata": {},
     "output_type": "execute_result"
    }
   ],
   "source": [
    "df = pd.read_csv('./customer_analysis.csv',  sep='\\t', index_col=0)\n",
    "df.head()"
   ]
  },
  {
   "cell_type": "code",
   "execution_count": 3,
   "metadata": {},
   "outputs": [
    {
     "name": "stdout",
     "output_type": "stream",
     "text": [
      "<class 'pandas.core.frame.DataFrame'>\n",
      "Int64Index: 2240 entries, 5524 to 9405\n",
      "Data columns (total 28 columns):\n",
      " #   Column               Non-Null Count  Dtype  \n",
      "---  ------               --------------  -----  \n",
      " 0   Year_Birth           2240 non-null   int64  \n",
      " 1   Education            2240 non-null   object \n",
      " 2   Marital_Status       2240 non-null   object \n",
      " 3   Income               2216 non-null   float64\n",
      " 4   Kidhome              2240 non-null   int64  \n",
      " 5   Teenhome             2240 non-null   int64  \n",
      " 6   Dt_Customer          2240 non-null   object \n",
      " 7   Recency              2240 non-null   int64  \n",
      " 8   MntWines             2240 non-null   int64  \n",
      " 9   MntFruits            2240 non-null   int64  \n",
      " 10  MntMeatProducts      2240 non-null   int64  \n",
      " 11  MntFishProducts      2240 non-null   int64  \n",
      " 12  MntSweetProducts     2240 non-null   int64  \n",
      " 13  MntGoldProds         2240 non-null   int64  \n",
      " 14  NumDealsPurchases    2240 non-null   int64  \n",
      " 15  NumWebPurchases      2240 non-null   int64  \n",
      " 16  NumCatalogPurchases  2240 non-null   int64  \n",
      " 17  NumStorePurchases    2240 non-null   int64  \n",
      " 18  NumWebVisitsMonth    2240 non-null   int64  \n",
      " 19  AcceptedCmp3         2240 non-null   int64  \n",
      " 20  AcceptedCmp4         2240 non-null   int64  \n",
      " 21  AcceptedCmp5         2240 non-null   int64  \n",
      " 22  AcceptedCmp1         2240 non-null   int64  \n",
      " 23  AcceptedCmp2         2240 non-null   int64  \n",
      " 24  Complain             2240 non-null   int64  \n",
      " 25  Z_CostContact        2240 non-null   int64  \n",
      " 26  Z_Revenue            2240 non-null   int64  \n",
      " 27  Response             2240 non-null   int64  \n",
      "dtypes: float64(1), int64(24), object(3)\n",
      "memory usage: 507.5+ KB\n"
     ]
    }
   ],
   "source": [
    "df.info()"
   ]
  },
  {
   "cell_type": "code",
   "execution_count": 4,
   "metadata": {},
   "outputs": [],
   "source": [
    "# Replace column Dt_Customer to datetime column\n",
    "df['Dt_Customer'] = pd.to_datetime(df['Dt_Customer'], format = '%d-%m-%Y')"
   ]
  },
  {
   "cell_type": "code",
   "execution_count": 5,
   "metadata": {},
   "outputs": [
    {
     "data": {
      "text/html": [
       "<div>\n",
       "<style scoped>\n",
       "    .dataframe tbody tr th:only-of-type {\n",
       "        vertical-align: middle;\n",
       "    }\n",
       "\n",
       "    .dataframe tbody tr th {\n",
       "        vertical-align: top;\n",
       "    }\n",
       "\n",
       "    .dataframe thead th {\n",
       "        text-align: right;\n",
       "    }\n",
       "</style>\n",
       "<table border=\"1\" class=\"dataframe\">\n",
       "  <thead>\n",
       "    <tr style=\"text-align: right;\">\n",
       "      <th></th>\n",
       "      <th>Year_Birth</th>\n",
       "      <th>Income</th>\n",
       "      <th>Kidhome</th>\n",
       "      <th>Teenhome</th>\n",
       "      <th>Recency</th>\n",
       "      <th>MntWines</th>\n",
       "      <th>MntFruits</th>\n",
       "      <th>MntMeatProducts</th>\n",
       "      <th>MntFishProducts</th>\n",
       "      <th>MntSweetProducts</th>\n",
       "      <th>...</th>\n",
       "      <th>NumWebVisitsMonth</th>\n",
       "      <th>AcceptedCmp3</th>\n",
       "      <th>AcceptedCmp4</th>\n",
       "      <th>AcceptedCmp5</th>\n",
       "      <th>AcceptedCmp1</th>\n",
       "      <th>AcceptedCmp2</th>\n",
       "      <th>Complain</th>\n",
       "      <th>Z_CostContact</th>\n",
       "      <th>Z_Revenue</th>\n",
       "      <th>Response</th>\n",
       "    </tr>\n",
       "  </thead>\n",
       "  <tbody>\n",
       "    <tr>\n",
       "      <th>count</th>\n",
       "      <td>2240.000000</td>\n",
       "      <td>2216.000000</td>\n",
       "      <td>2240.000000</td>\n",
       "      <td>2240.000000</td>\n",
       "      <td>2240.000000</td>\n",
       "      <td>2240.000000</td>\n",
       "      <td>2240.000000</td>\n",
       "      <td>2240.000000</td>\n",
       "      <td>2240.000000</td>\n",
       "      <td>2240.000000</td>\n",
       "      <td>...</td>\n",
       "      <td>2240.000000</td>\n",
       "      <td>2240.000000</td>\n",
       "      <td>2240.000000</td>\n",
       "      <td>2240.000000</td>\n",
       "      <td>2240.000000</td>\n",
       "      <td>2240.000000</td>\n",
       "      <td>2240.000000</td>\n",
       "      <td>2240.0</td>\n",
       "      <td>2240.0</td>\n",
       "      <td>2240.000000</td>\n",
       "    </tr>\n",
       "    <tr>\n",
       "      <th>mean</th>\n",
       "      <td>1968.805804</td>\n",
       "      <td>52247.251354</td>\n",
       "      <td>0.444196</td>\n",
       "      <td>0.506250</td>\n",
       "      <td>49.109375</td>\n",
       "      <td>303.935714</td>\n",
       "      <td>26.302232</td>\n",
       "      <td>166.950000</td>\n",
       "      <td>37.525446</td>\n",
       "      <td>27.062946</td>\n",
       "      <td>...</td>\n",
       "      <td>5.316518</td>\n",
       "      <td>0.072768</td>\n",
       "      <td>0.074554</td>\n",
       "      <td>0.072768</td>\n",
       "      <td>0.064286</td>\n",
       "      <td>0.013393</td>\n",
       "      <td>0.009375</td>\n",
       "      <td>3.0</td>\n",
       "      <td>11.0</td>\n",
       "      <td>0.149107</td>\n",
       "    </tr>\n",
       "    <tr>\n",
       "      <th>std</th>\n",
       "      <td>11.984069</td>\n",
       "      <td>25173.076661</td>\n",
       "      <td>0.538398</td>\n",
       "      <td>0.544538</td>\n",
       "      <td>28.962453</td>\n",
       "      <td>336.597393</td>\n",
       "      <td>39.773434</td>\n",
       "      <td>225.715373</td>\n",
       "      <td>54.628979</td>\n",
       "      <td>41.280498</td>\n",
       "      <td>...</td>\n",
       "      <td>2.426645</td>\n",
       "      <td>0.259813</td>\n",
       "      <td>0.262728</td>\n",
       "      <td>0.259813</td>\n",
       "      <td>0.245316</td>\n",
       "      <td>0.114976</td>\n",
       "      <td>0.096391</td>\n",
       "      <td>0.0</td>\n",
       "      <td>0.0</td>\n",
       "      <td>0.356274</td>\n",
       "    </tr>\n",
       "    <tr>\n",
       "      <th>min</th>\n",
       "      <td>1893.000000</td>\n",
       "      <td>1730.000000</td>\n",
       "      <td>0.000000</td>\n",
       "      <td>0.000000</td>\n",
       "      <td>0.000000</td>\n",
       "      <td>0.000000</td>\n",
       "      <td>0.000000</td>\n",
       "      <td>0.000000</td>\n",
       "      <td>0.000000</td>\n",
       "      <td>0.000000</td>\n",
       "      <td>...</td>\n",
       "      <td>0.000000</td>\n",
       "      <td>0.000000</td>\n",
       "      <td>0.000000</td>\n",
       "      <td>0.000000</td>\n",
       "      <td>0.000000</td>\n",
       "      <td>0.000000</td>\n",
       "      <td>0.000000</td>\n",
       "      <td>3.0</td>\n",
       "      <td>11.0</td>\n",
       "      <td>0.000000</td>\n",
       "    </tr>\n",
       "    <tr>\n",
       "      <th>25%</th>\n",
       "      <td>1959.000000</td>\n",
       "      <td>35303.000000</td>\n",
       "      <td>0.000000</td>\n",
       "      <td>0.000000</td>\n",
       "      <td>24.000000</td>\n",
       "      <td>23.750000</td>\n",
       "      <td>1.000000</td>\n",
       "      <td>16.000000</td>\n",
       "      <td>3.000000</td>\n",
       "      <td>1.000000</td>\n",
       "      <td>...</td>\n",
       "      <td>3.000000</td>\n",
       "      <td>0.000000</td>\n",
       "      <td>0.000000</td>\n",
       "      <td>0.000000</td>\n",
       "      <td>0.000000</td>\n",
       "      <td>0.000000</td>\n",
       "      <td>0.000000</td>\n",
       "      <td>3.0</td>\n",
       "      <td>11.0</td>\n",
       "      <td>0.000000</td>\n",
       "    </tr>\n",
       "    <tr>\n",
       "      <th>50%</th>\n",
       "      <td>1970.000000</td>\n",
       "      <td>51381.500000</td>\n",
       "      <td>0.000000</td>\n",
       "      <td>0.000000</td>\n",
       "      <td>49.000000</td>\n",
       "      <td>173.500000</td>\n",
       "      <td>8.000000</td>\n",
       "      <td>67.000000</td>\n",
       "      <td>12.000000</td>\n",
       "      <td>8.000000</td>\n",
       "      <td>...</td>\n",
       "      <td>6.000000</td>\n",
       "      <td>0.000000</td>\n",
       "      <td>0.000000</td>\n",
       "      <td>0.000000</td>\n",
       "      <td>0.000000</td>\n",
       "      <td>0.000000</td>\n",
       "      <td>0.000000</td>\n",
       "      <td>3.0</td>\n",
       "      <td>11.0</td>\n",
       "      <td>0.000000</td>\n",
       "    </tr>\n",
       "    <tr>\n",
       "      <th>75%</th>\n",
       "      <td>1977.000000</td>\n",
       "      <td>68522.000000</td>\n",
       "      <td>1.000000</td>\n",
       "      <td>1.000000</td>\n",
       "      <td>74.000000</td>\n",
       "      <td>504.250000</td>\n",
       "      <td>33.000000</td>\n",
       "      <td>232.000000</td>\n",
       "      <td>50.000000</td>\n",
       "      <td>33.000000</td>\n",
       "      <td>...</td>\n",
       "      <td>7.000000</td>\n",
       "      <td>0.000000</td>\n",
       "      <td>0.000000</td>\n",
       "      <td>0.000000</td>\n",
       "      <td>0.000000</td>\n",
       "      <td>0.000000</td>\n",
       "      <td>0.000000</td>\n",
       "      <td>3.0</td>\n",
       "      <td>11.0</td>\n",
       "      <td>0.000000</td>\n",
       "    </tr>\n",
       "    <tr>\n",
       "      <th>max</th>\n",
       "      <td>1996.000000</td>\n",
       "      <td>666666.000000</td>\n",
       "      <td>2.000000</td>\n",
       "      <td>2.000000</td>\n",
       "      <td>99.000000</td>\n",
       "      <td>1493.000000</td>\n",
       "      <td>199.000000</td>\n",
       "      <td>1725.000000</td>\n",
       "      <td>259.000000</td>\n",
       "      <td>263.000000</td>\n",
       "      <td>...</td>\n",
       "      <td>20.000000</td>\n",
       "      <td>1.000000</td>\n",
       "      <td>1.000000</td>\n",
       "      <td>1.000000</td>\n",
       "      <td>1.000000</td>\n",
       "      <td>1.000000</td>\n",
       "      <td>1.000000</td>\n",
       "      <td>3.0</td>\n",
       "      <td>11.0</td>\n",
       "      <td>1.000000</td>\n",
       "    </tr>\n",
       "  </tbody>\n",
       "</table>\n",
       "<p>8 rows × 25 columns</p>\n",
       "</div>"
      ],
      "text/plain": [
       "        Year_Birth         Income      Kidhome     Teenhome      Recency  \\\n",
       "count  2240.000000    2216.000000  2240.000000  2240.000000  2240.000000   \n",
       "mean   1968.805804   52247.251354     0.444196     0.506250    49.109375   \n",
       "std      11.984069   25173.076661     0.538398     0.544538    28.962453   \n",
       "min    1893.000000    1730.000000     0.000000     0.000000     0.000000   \n",
       "25%    1959.000000   35303.000000     0.000000     0.000000    24.000000   \n",
       "50%    1970.000000   51381.500000     0.000000     0.000000    49.000000   \n",
       "75%    1977.000000   68522.000000     1.000000     1.000000    74.000000   \n",
       "max    1996.000000  666666.000000     2.000000     2.000000    99.000000   \n",
       "\n",
       "          MntWines    MntFruits  MntMeatProducts  MntFishProducts  \\\n",
       "count  2240.000000  2240.000000      2240.000000      2240.000000   \n",
       "mean    303.935714    26.302232       166.950000        37.525446   \n",
       "std     336.597393    39.773434       225.715373        54.628979   \n",
       "min       0.000000     0.000000         0.000000         0.000000   \n",
       "25%      23.750000     1.000000        16.000000         3.000000   \n",
       "50%     173.500000     8.000000        67.000000        12.000000   \n",
       "75%     504.250000    33.000000       232.000000        50.000000   \n",
       "max    1493.000000   199.000000      1725.000000       259.000000   \n",
       "\n",
       "       MntSweetProducts  ...  NumWebVisitsMonth  AcceptedCmp3  AcceptedCmp4  \\\n",
       "count       2240.000000  ...        2240.000000   2240.000000   2240.000000   \n",
       "mean          27.062946  ...           5.316518      0.072768      0.074554   \n",
       "std           41.280498  ...           2.426645      0.259813      0.262728   \n",
       "min            0.000000  ...           0.000000      0.000000      0.000000   \n",
       "25%            1.000000  ...           3.000000      0.000000      0.000000   \n",
       "50%            8.000000  ...           6.000000      0.000000      0.000000   \n",
       "75%           33.000000  ...           7.000000      0.000000      0.000000   \n",
       "max          263.000000  ...          20.000000      1.000000      1.000000   \n",
       "\n",
       "       AcceptedCmp5  AcceptedCmp1  AcceptedCmp2     Complain  Z_CostContact  \\\n",
       "count   2240.000000   2240.000000   2240.000000  2240.000000         2240.0   \n",
       "mean       0.072768      0.064286      0.013393     0.009375            3.0   \n",
       "std        0.259813      0.245316      0.114976     0.096391            0.0   \n",
       "min        0.000000      0.000000      0.000000     0.000000            3.0   \n",
       "25%        0.000000      0.000000      0.000000     0.000000            3.0   \n",
       "50%        0.000000      0.000000      0.000000     0.000000            3.0   \n",
       "75%        0.000000      0.000000      0.000000     0.000000            3.0   \n",
       "max        1.000000      1.000000      1.000000     1.000000            3.0   \n",
       "\n",
       "       Z_Revenue     Response  \n",
       "count     2240.0  2240.000000  \n",
       "mean        11.0     0.149107  \n",
       "std          0.0     0.356274  \n",
       "min         11.0     0.000000  \n",
       "25%         11.0     0.000000  \n",
       "50%         11.0     0.000000  \n",
       "75%         11.0     0.000000  \n",
       "max         11.0     1.000000  \n",
       "\n",
       "[8 rows x 25 columns]"
      ]
     },
     "execution_count": 5,
     "metadata": {},
     "output_type": "execute_result"
    }
   ],
   "source": [
    "df.describe()"
   ]
  },
  {
   "cell_type": "code",
   "execution_count": 6,
   "metadata": {},
   "outputs": [
    {
     "data": {
      "text/plain": [
       "Year_Birth              0\n",
       "Education               0\n",
       "Marital_Status          0\n",
       "Income                 24\n",
       "Kidhome                 0\n",
       "Teenhome                0\n",
       "Dt_Customer             0\n",
       "Recency                 0\n",
       "MntWines                0\n",
       "MntFruits               0\n",
       "MntMeatProducts         0\n",
       "MntFishProducts         0\n",
       "MntSweetProducts        0\n",
       "MntGoldProds            0\n",
       "NumDealsPurchases       0\n",
       "NumWebPurchases         0\n",
       "NumCatalogPurchases     0\n",
       "NumStorePurchases       0\n",
       "NumWebVisitsMonth       0\n",
       "AcceptedCmp3            0\n",
       "AcceptedCmp4            0\n",
       "AcceptedCmp5            0\n",
       "AcceptedCmp1            0\n",
       "AcceptedCmp2            0\n",
       "Complain                0\n",
       "Z_CostContact           0\n",
       "Z_Revenue               0\n",
       "Response                0\n",
       "dtype: int64"
      ]
     },
     "execution_count": 6,
     "metadata": {},
     "output_type": "execute_result"
    }
   ],
   "source": [
    "# Check missing values\n",
    "df.isna().sum()"
   ]
  },
  {
   "cell_type": "code",
   "execution_count": 7,
   "metadata": {},
   "outputs": [],
   "source": [
    "# Replace null at Income column with mean\n",
    "df['Income'].fillna(df['Income'].mean(), inplace=True)"
   ]
  },
  {
   "cell_type": "code",
   "execution_count": 8,
   "metadata": {},
   "outputs": [],
   "source": [
    "# Drop constant value (Z_Revenue & Z_CostContact)\n",
    "df.drop(['Z_Revenue', 'Z_CostContact'], axis=1, inplace=True)"
   ]
  },
  {
   "cell_type": "code",
   "execution_count": 9,
   "metadata": {},
   "outputs": [
    {
     "data": {
      "image/png": "[encoded data removed]",
      "text/plain": [
       "<Figure size 432x288 with 1 Axes>"
      ]
     },
     "metadata": {
      "needs_background": "light"
     },
     "output_type": "display_data"
    }
   ],
   "source": [
    "df['Income'].plot(kind='hist', bins=50)\n",
    "plt.show()"
   ]
  },
  {
   "cell_type": "code",
   "execution_count": 10,
   "metadata": {},
   "outputs": [
    {
     "data": {
      "text/plain": [
       "count      2232.000000\n",
       "mean      51640.236126\n",
       "std       20601.760369\n",
       "min        1730.000000\n",
       "25%       35434.750000\n",
       "50%       51566.000000\n",
       "75%       68118.000000\n",
       "max      113734.000000\n",
       "Name: Income, dtype: float64"
      ]
     },
     "execution_count": 10,
     "metadata": {},
     "output_type": "execute_result"
    }
   ],
   "source": [
    "# Drop outliers\n",
    "Q1 = df['Income'].quantile(0.25)\n",
    "Q3 = df['Income'].quantile(0.75)\n",
    "IQR = Q3 - Q1\n",
    "\n",
    "df = df[~((df['Income'] < (Q1 - 1.5 * IQR)) |(df['Income'] > (Q3 + 1.5 * IQR)))]\n",
    "df['Income'].describe()"
   ]
  },
  {
   "cell_type": "code",
   "execution_count": 11,
   "metadata": {},
   "outputs": [
    {
     "data": {
      "image/png": "[encoded data removed]",
      "text/plain": [
       "<Figure size 432x288 with 1 Axes>"
      ]
     },
     "metadata": {
      "needs_background": "light"
     },
     "output_type": "display_data"
    }
   ],
   "source": [
    "# Visualisation\n",
    "df['Income'].plot(kind='hist', bins=50)\n",
    "plt.show()"
   ]
  },
  {
   "cell_type": "code",
   "execution_count": 12,
   "metadata": {},
   "outputs": [],
   "source": [
    "# Dechipering Age column\n",
    "current_year = pd.to_datetime('today').year\n",
    "\n",
    "df['Age'] = current_year - df['Year_Birth']\n",
    "df.drop('Year_Birth', axis=1, inplace=True)"
   ]
  },
  {
   "cell_type": "code",
   "execution_count": 13,
   "metadata": {},
   "outputs": [
    {
     "data": {
      "text/plain": [
       "count    2232.000000\n",
       "mean       54.207437\n",
       "std        11.990340\n",
       "min        27.000000\n",
       "25%        46.000000\n",
       "50%        53.000000\n",
       "75%        64.000000\n",
       "max       130.000000\n",
       "Name: Age, dtype: float64"
      ]
     },
     "execution_count": 13,
     "metadata": {},
     "output_type": "execute_result"
    }
   ],
   "source": [
    "# Describe Age column\n",
    "df['Age'].describe()"
   ]
  },
  {
   "cell_type": "code",
   "execution_count": 14,
   "metadata": {},
   "outputs": [],
   "source": [
    "# Combine \"MntWines\", \"MntFruits\", \"MntMeatProducts\", \"MntFishProducts\", \"MntSweetProducts\", \"MntGoldProds\" and make new column called \"Spent\"\n",
    "df['Spent'] = df['MntWines'] + df['MntFruits'] + df['MntMeatProducts'] + df['MntFishProducts'] + df['MntSweetProducts'] + df['MntGoldProds']"
   ]
  },
  {
   "cell_type": "code",
   "execution_count": 15,
   "metadata": {},
   "outputs": [
    {
     "data": {
      "text/plain": [
       "count    2232.000000\n",
       "mean      605.596326\n",
       "std       601.444172\n",
       "min         5.000000\n",
       "25%        69.000000\n",
       "50%       396.500000\n",
       "75%      1044.250000\n",
       "max      2525.000000\n",
       "Name: Spent, dtype: float64"
      ]
     },
     "execution_count": 15,
     "metadata": {},
     "output_type": "execute_result"
    }
   ],
   "source": [
    "# Describe Spent column\n",
    "df['Spent'].describe()"
   ]
  },
  {
   "cell_type": "code",
   "execution_count": 16,
   "metadata": {},
   "outputs": [],
   "source": [
    "# Combine \"Kidhome\" and \"Teenhome\" if there are kids in the house set the value to 1, otherwise 0. Then make new column called \"Parent\"\n",
    "df['isParent'] = (df['Kidhome'] + df['Teenhome']).apply(lambda x: 1 if x > 0 else 0)"
   ]
  },
  {
   "cell_type": "code",
   "execution_count": 17,
   "metadata": {},
   "outputs": [
    {
     "data": {
      "image/png": "[encoded data removed]",
      "text/plain": [
       "<Figure size 432x288 with 1 Axes>"
      ]
     },
     "metadata": {},
     "output_type": "display_data"
    }
   ],
   "source": [
    "# Calculate the counts of each unique value in the \"Parent\" column\n",
    "counts = df['isParent'].value_counts()\n",
    "\n",
    "# Visualisation\n",
    "plt.pie(counts, labels=counts.index, autopct='%1.1f%%')\n",
    "plt.title('Distribution of isParent')\n",
    "plt.show()"
   ]
  },
  {
   "cell_type": "code",
   "execution_count": 18,
   "metadata": {},
   "outputs": [
    {
     "data": {
      "image/png": "[encoded data removed]",
      "text/plain": [
       "<Figure size 432x288 with 1 Axes>"
      ]
     },
     "metadata": {
      "needs_background": "light"
     },
     "output_type": "display_data"
    }
   ],
   "source": [
    "# Combine \"Kidhome\" and \"Teenhome\" then make new column called \"Children\"\n",
    "df['Children'] = df['Kidhome'] + df['Teenhome']\n",
    "df.drop(['Kidhome', 'Teenhome'], axis=1, inplace=True)\n",
    "\n",
    "# Visualisation\n",
    "sns.countplot(x='Children', data=df)\n",
    "plt.title('Distribution of Children')\n",
    "plt.show()"
   ]
  },
  {
   "cell_type": "code",
   "execution_count": 19,
   "metadata": {},
   "outputs": [
    {
     "data": {
      "text/plain": [
       "Married     861\n",
       "Together    576\n",
       "Single      480\n",
       "Divorced    231\n",
       "Widow        77\n",
       "Alone         3\n",
       "Absurd        2\n",
       "YOLO          2\n",
       "Name: Marital_Status, dtype: int64"
      ]
     },
     "execution_count": 19,
     "metadata": {},
     "output_type": "execute_result"
    }
   ],
   "source": [
    "df['Marital_Status'].value_counts()"
   ]
  },
  {
   "cell_type": "code",
   "execution_count": 20,
   "metadata": {},
   "outputs": [],
   "source": [
    "# Combine \"Marital_Status\" and \"totalChildren\" if the customer is married then it is 2, otherwise 1. Then make new column called \"famSize\"\n",
    "marital_mapping = {\n",
    "    \"Married\": 2,\n",
    "    \"Together\": 2,\n",
    "    \"Divorced\": 1,\n",
    "    \"Single\": 1,\n",
    "    \"Widow\": 1,\n",
    "    \"Alone\": 1,\n",
    "    \"Absurd\": 1,\n",
    "    \"YOLO\": 1\n",
    "}\n",
    "\n",
    "df['famSize'] = df['Marital_Status'].map(marital_mapping) + df['Children']"
   ]
  },
  {
   "cell_type": "code",
   "execution_count": 21,
   "metadata": {},
   "outputs": [
    {
     "data": {
      "image/png": "[encoded data removed]",
      "text/plain": [
       "<Figure size 432x288 with 1 Axes>"
      ]
     },
     "metadata": {
      "needs_background": "light"
     },
     "output_type": "display_data"
    }
   ],
   "source": [
    "# VIsualisation\n",
    "sns.countplot(x='famSize', data=df)\n",
    "plt.title('Distribution of famSize')\n",
    "plt.show()"
   ]
  },
  {
   "cell_type": "code",
   "execution_count": 22,
   "metadata": {},
   "outputs": [],
   "source": [
    "# Extract the date, month, and year column\n",
    "df['EnrollDate'] = df['Dt_Customer'].dt.day\n",
    "df['EnrollMonth'] = df['Dt_Customer'].dt.month\n",
    "df['EnrollYear'] = df['Dt_Customer'].dt.year\n",
    "df.drop('Dt_Customer', axis=1, inplace=True)"
   ]
  },
  {
   "cell_type": "code",
   "execution_count": 23,
   "metadata": {},
   "outputs": [
    {
     "data": {
      "image/png": "[encoded data removed]",
      "text/plain": [
       "<Figure size 432x288 with 1 Axes>"
      ]
     },
     "metadata": {
      "needs_background": "light"
     },
     "output_type": "display_data"
    }
   ],
   "source": [
    "# Encode \"Education\" column\n",
    "education_mapping = {\n",
    "    \"Basic\": 0,\n",
    "    \"2n Cycle\": 1,\n",
    "    \"Graduation\": 1,\n",
    "    \"Master\": 2,\n",
    "    \"PhD\": 2\n",
    "}\n",
    "df['Education'] = df['Education'].map(education_mapping)\n",
    "\n",
    "# Visualisation\n",
    "sns.countplot(x='Education', data=df)\n",
    "plt.title('Distribution of Education')\n",
    "plt.show()"
   ]
  },
  {
   "cell_type": "code",
   "execution_count": 24,
   "metadata": {},
   "outputs": [
    {
     "data": {
      "image/png": "[encoded data removed]",
      "text/plain": [
       "<Figure size 432x288 with 1 Axes>"
      ]
     },
     "metadata": {
      "needs_background": "light"
     },
     "output_type": "display_data"
    }
   ],
   "source": [
    "# Encode \"Marital_Status\" column\n",
    "marital_mapping = {\n",
    "    \"Married\": 0,\n",
    "    \"Together\": 0,\n",
    "    \"Divorced\": 1,\n",
    "    \"Single\": 1,\n",
    "    \"Widow\": 1,\n",
    "    \"Alone\": 2,\n",
    "    \"Absurd\": 2,\n",
    "    \"YOLO\": 2\n",
    "}\n",
    "df['Marital_Status'] = df['Marital_Status'].map(marital_mapping)\n",
    "\n",
    "# Visualisation\n",
    "sns.countplot(x='Marital_Status', data=df)\n",
    "plt.title('Distribution of Marital_Status')\n",
    "plt.show()"
   ]
  },
  {
   "cell_type": "code",
   "execution_count": 25,
   "metadata": {},
   "outputs": [
    {
     "data": {
      "text/html": [
       "<div>\n",
       "<style scoped>\n",
       "    .dataframe tbody tr th:only-of-type {\n",
       "        vertical-align: middle;\n",
       "    }\n",
       "\n",
       "    .dataframe tbody tr th {\n",
       "        vertical-align: top;\n",
       "    }\n",
       "\n",
       "    .dataframe thead th {\n",
       "        text-align: right;\n",
       "    }\n",
       "</style>\n",
       "<table border=\"1\" class=\"dataframe\">\n",
       "  <thead>\n",
       "    <tr style=\"text-align: right;\">\n",
       "      <th></th>\n",
       "      <th>Education</th>\n",
       "      <th>Marital_Status</th>\n",
       "      <th>Income</th>\n",
       "      <th>Recency</th>\n",
       "      <th>MntWines</th>\n",
       "      <th>MntFruits</th>\n",
       "      <th>MntMeatProducts</th>\n",
       "      <th>MntFishProducts</th>\n",
       "      <th>MntSweetProducts</th>\n",
       "      <th>MntGoldProds</th>\n",
       "      <th>...</th>\n",
       "      <th>Complain</th>\n",
       "      <th>Response</th>\n",
       "      <th>Age</th>\n",
       "      <th>Spent</th>\n",
       "      <th>isParent</th>\n",
       "      <th>Children</th>\n",
       "      <th>famSize</th>\n",
       "      <th>EnrollDate</th>\n",
       "      <th>EnrollMonth</th>\n",
       "      <th>EnrollYear</th>\n",
       "    </tr>\n",
       "    <tr>\n",
       "      <th>ID</th>\n",
       "      <th></th>\n",
       "      <th></th>\n",
       "      <th></th>\n",
       "      <th></th>\n",
       "      <th></th>\n",
       "      <th></th>\n",
       "      <th></th>\n",
       "      <th></th>\n",
       "      <th></th>\n",
       "      <th></th>\n",
       "      <th></th>\n",
       "      <th></th>\n",
       "      <th></th>\n",
       "      <th></th>\n",
       "      <th></th>\n",
       "      <th></th>\n",
       "      <th></th>\n",
       "      <th></th>\n",
       "      <th></th>\n",
       "      <th></th>\n",
       "      <th></th>\n",
       "    </tr>\n",
       "  </thead>\n",
       "  <tbody>\n",
       "    <tr>\n",
       "      <th>5524</th>\n",
       "      <td>-0.677287</td>\n",
       "      <td>1.317478</td>\n",
       "      <td>0.315469</td>\n",
       "      <td>0.307081</td>\n",
       "      <td>0.980281</td>\n",
       "      <td>1.547741</td>\n",
       "      <td>1.735476</td>\n",
       "      <td>2.457243</td>\n",
       "      <td>1.472657</td>\n",
       "      <td>0.839843</td>\n",
       "      <td>...</td>\n",
       "      <td>-0.097458</td>\n",
       "      <td>2.383828</td>\n",
       "      <td>0.983726</td>\n",
       "      <td>1.682002</td>\n",
       "      <td>-1.587610</td>\n",
       "      <td>-1.266161</td>\n",
       "      <td>-1.759248</td>\n",
       "      <td>-1.329084</td>\n",
       "      <td>0.724679</td>\n",
       "      <td>-1.501146</td>\n",
       "    </tr>\n",
       "    <tr>\n",
       "      <th>2174</th>\n",
       "      <td>-0.677287</td>\n",
       "      <td>1.317478</td>\n",
       "      <td>-0.257134</td>\n",
       "      <td>-0.383851</td>\n",
       "      <td>-0.872949</td>\n",
       "      <td>-0.637496</td>\n",
       "      <td>-0.726318</td>\n",
       "      <td>-0.651911</td>\n",
       "      <td>-0.633057</td>\n",
       "      <td>-0.731254</td>\n",
       "      <td>...</td>\n",
       "      <td>-0.097458</td>\n",
       "      <td>-0.419493</td>\n",
       "      <td>1.233983</td>\n",
       "      <td>-0.962227</td>\n",
       "      <td>0.629878</td>\n",
       "      <td>1.394923</td>\n",
       "      <td>0.446111</td>\n",
       "      <td>-0.873100</td>\n",
       "      <td>-0.994829</td>\n",
       "      <td>1.420003</td>\n",
       "    </tr>\n",
       "    <tr>\n",
       "      <th>4141</th>\n",
       "      <td>-0.677287</td>\n",
       "      <td>-0.738893</td>\n",
       "      <td>0.969686</td>\n",
       "      <td>-0.798410</td>\n",
       "      <td>0.359568</td>\n",
       "      <td>0.568152</td>\n",
       "      <td>-0.174694</td>\n",
       "      <td>1.341605</td>\n",
       "      <td>-0.148984</td>\n",
       "      <td>-0.041504</td>\n",
       "      <td>...</td>\n",
       "      <td>-0.097458</td>\n",
       "      <td>-0.419493</td>\n",
       "      <td>0.316372</td>\n",
       "      <td>0.283388</td>\n",
       "      <td>-1.587610</td>\n",
       "      <td>-1.266161</td>\n",
       "      <td>-0.656569</td>\n",
       "      <td>0.608846</td>\n",
       "      <td>0.438095</td>\n",
       "      <td>-0.040572</td>\n",
       "    </tr>\n",
       "    <tr>\n",
       "      <th>6182</th>\n",
       "      <td>-0.677287</td>\n",
       "      <td>-0.738893</td>\n",
       "      <td>-1.213481</td>\n",
       "      <td>-0.798410</td>\n",
       "      <td>-0.872949</td>\n",
       "      <td>-0.562143</td>\n",
       "      <td>-0.662493</td>\n",
       "      <td>-0.505598</td>\n",
       "      <td>-0.584649</td>\n",
       "      <td>-0.750414</td>\n",
       "      <td>...</td>\n",
       "      <td>-0.097458</td>\n",
       "      <td>-0.419493</td>\n",
       "      <td>-1.268592</td>\n",
       "      <td>-0.918988</td>\n",
       "      <td>0.629878</td>\n",
       "      <td>0.064381</td>\n",
       "      <td>0.446111</td>\n",
       "      <td>-0.645108</td>\n",
       "      <td>-1.281414</td>\n",
       "      <td>1.420003</td>\n",
       "    </tr>\n",
       "    <tr>\n",
       "      <th>5324</th>\n",
       "      <td>1.219456</td>\n",
       "      <td>-0.738893</td>\n",
       "      <td>0.322994</td>\n",
       "      <td>1.550759</td>\n",
       "      <td>-0.391822</td>\n",
       "      <td>0.417446</td>\n",
       "      <td>-0.215724</td>\n",
       "      <td>0.152811</td>\n",
       "      <td>-0.003763</td>\n",
       "      <td>-0.558817</td>\n",
       "      <td>...</td>\n",
       "      <td>-0.097458</td>\n",
       "      <td>-0.419493</td>\n",
       "      <td>-1.018334</td>\n",
       "      <td>-0.305328</td>\n",
       "      <td>0.629878</td>\n",
       "      <td>0.064381</td>\n",
       "      <td>0.446111</td>\n",
       "      <td>0.380855</td>\n",
       "      <td>-1.567998</td>\n",
       "      <td>1.420003</td>\n",
       "    </tr>\n",
       "  </tbody>\n",
       "</table>\n",
       "<p>5 rows × 30 columns</p>\n",
       "</div>"
      ],
      "text/plain": [
       "      Education  Marital_Status    Income   Recency  MntWines  MntFruits  \\\n",
       "ID                                                                         \n",
       "5524  -0.677287        1.317478  0.315469  0.307081  0.980281   1.547741   \n",
       "2174  -0.677287        1.317478 -0.257134 -0.383851 -0.872949  -0.637496   \n",
       "4141  -0.677287       -0.738893  0.969686 -0.798410  0.359568   0.568152   \n",
       "6182  -0.677287       -0.738893 -1.213481 -0.798410 -0.872949  -0.562143   \n",
       "5324   1.219456       -0.738893  0.322994  1.550759 -0.391822   0.417446   \n",
       "\n",
       "      MntMeatProducts  MntFishProducts  MntSweetProducts  MntGoldProds  ...  \\\n",
       "ID                                                                      ...   \n",
       "5524         1.735476         2.457243          1.472657      0.839843  ...   \n",
       "2174        -0.726318        -0.651911         -0.633057     -0.731254  ...   \n",
       "4141        -0.174694         1.341605         -0.148984     -0.041504  ...   \n",
       "6182        -0.662493        -0.505598         -0.584649     -0.750414  ...   \n",
       "5324        -0.215724         0.152811         -0.003763     -0.558817  ...   \n",
       "\n",
       "      Complain  Response       Age     Spent  isParent  Children   famSize  \\\n",
       "ID                                                                           \n",
       "5524 -0.097458  2.383828  0.983726  1.682002 -1.587610 -1.266161 -1.759248   \n",
       "2174 -0.097458 -0.419493  1.233983 -0.962227  0.629878  1.394923  0.446111   \n",
       "4141 -0.097458 -0.419493  0.316372  0.283388 -1.587610 -1.266161 -0.656569   \n",
       "6182 -0.097458 -0.419493 -1.268592 -0.918988  0.629878  0.064381  0.446111   \n",
       "5324 -0.097458 -0.419493 -1.018334 -0.305328  0.629878  0.064381  0.446111   \n",
       "\n",
       "      EnrollDate  EnrollMonth  EnrollYear  \n",
       "ID                                         \n",
       "5524   -1.329084     0.724679   -1.501146  \n",
       "2174   -0.873100    -0.994829    1.420003  \n",
       "4141    0.608846     0.438095   -0.040572  \n",
       "6182   -0.645108    -1.281414    1.420003  \n",
       "5324    0.380855    -1.567998    1.420003  \n",
       "\n",
       "[5 rows x 30 columns]"
      ]
     },
     "execution_count": 25,
     "metadata": {},
     "output_type": "execute_result"
    }
   ],
   "source": [
    "# Create StandartScaler\n",
    "scaler = StandardScaler()\n",
    "scaler.fit(df)\n",
    "scaled_df = pd.DataFrame(scaler.transform(df), columns=df.columns, index=df.index)\n",
    "scaled_df.head()"
   ]
  },
  {
   "cell_type": "code",
   "execution_count": 26,
   "metadata": {},
   "outputs": [
    {
     "ename": "TypeError",
     "evalue": "__init__() got an unexpected keyword argument 'metric'",
     "output_type": "error",
     "traceback": [
      "\u001b[1;31m---------------------------------------------------------------------------\u001b[0m",
      "\u001b[1;31mTypeError\u001b[0m                                 Traceback (most recent call last)",
      "\u001b[1;32md:\\UC\\ISB\\Semester 5\\Data Mining\\AFL 2\\AFL 2 (Steven Ongkowidjojo - 0706022110035).ipynb Cell 27\u001b[0m line \u001b[0;36m<cell line: 3>\u001b[1;34m()\u001b[0m\n\u001b[0;32m      <a href='vscode-notebook-cell:/d%3A/UC/ISB/Semester%205/Data%20Mining/AFL%202/AFL%202%20%28Steven%20Ongkowidjojo%20-%200706022110035%29.ipynb#X40sZmlsZQ%3D%3D?line=0'>1</a>\u001b[0m silhouette_scores \u001b[39m=\u001b[39m []\n\u001b[0;32m      <a href='vscode-notebook-cell:/d%3A/UC/ISB/Semester%205/Data%20Mining/AFL%202/AFL%202%20%28Steven%20Ongkowidjojo%20-%200706022110035%29.ipynb#X40sZmlsZQ%3D%3D?line=2'>3</a>\u001b[0m \u001b[39mfor\u001b[39;00m i \u001b[39min\u001b[39;00m \u001b[39mrange\u001b[39m(\u001b[39m2\u001b[39m, \u001b[39m11\u001b[39m):  \u001b[39m# starts from 2 because silhouette_score needs at least 2 clusters\u001b[39;00m\n\u001b[1;32m----> <a href='vscode-notebook-cell:/d%3A/UC/ISB/Semester%205/Data%20Mining/AFL%202/AFL%202%20%28Steven%20Ongkowidjojo%20-%200706022110035%29.ipynb#X40sZmlsZQ%3D%3D?line=3'>4</a>\u001b[0m     model \u001b[39m=\u001b[39m AgglomerativeClustering(n_clusters\u001b[39m=\u001b[39;49mi, metric\u001b[39m=\u001b[39;49m\u001b[39m'\u001b[39;49m\u001b[39meuclidean\u001b[39;49m\u001b[39m'\u001b[39;49m, linkage\u001b[39m=\u001b[39;49m\u001b[39m'\u001b[39;49m\u001b[39mward\u001b[39;49m\u001b[39m'\u001b[39;49m)\n\u001b[0;32m      <a href='vscode-notebook-cell:/d%3A/UC/ISB/Semester%205/Data%20Mining/AFL%202/AFL%202%20%28Steven%20Ongkowidjojo%20-%200706022110035%29.ipynb#X40sZmlsZQ%3D%3D?line=4'>5</a>\u001b[0m     labels \u001b[39m=\u001b[39m model\u001b[39m.\u001b[39mfit_predict(scaled_df)\n\u001b[0;32m      <a href='vscode-notebook-cell:/d%3A/UC/ISB/Semester%205/Data%20Mining/AFL%202/AFL%202%20%28Steven%20Ongkowidjojo%20-%200706022110035%29.ipynb#X40sZmlsZQ%3D%3D?line=5'>6</a>\u001b[0m     silhouette_scores\u001b[39m.\u001b[39mappend(silhouette_score(scaled_df, labels))\n",
      "\u001b[1;31mTypeError\u001b[0m: __init__() got an unexpected keyword argument 'metric'"
     ]
    }
   ],
   "source": [
    "silhouette_scores = []\n",
    "\n",
    "for i in range(2, 11):  # starts from 2 because silhouette_score needs at least 2 clusters\n",
    "    model = AgglomerativeClustering(n_clusters=i, metric='euclidean', linkage='ward')\n",
    "    labels = model.fit_predict(scaled_df)\n",
    "    silhouette_scores.append(silhouette_score(scaled_df, labels))\n",
    "\n",
    "# Plot silhouette scores\n",
    "plt.plot(range(2, 11), silhouette_scores, 'bx-')\n",
    "plt.xlabel('Number of clusters')\n",
    "plt.ylabel('Silhouette Score')\n",
    "plt.show()"
   ]
  },
  {
   "cell_type": "code",
   "execution_count": null,
   "metadata": {},
   "outputs": [],
   "source": [
    "clusters_range = range(2, 11)\n",
    "\n",
    "knee_locator = KneeLocator(clusters_range, silhouette_scores, curve='convex', direction='decreasing')\n",
    "\n",
    "print(\"The optimal number of clusters is:\", knee_locator.elbow)"
   ]
  },
  {
   "cell_type": "markdown",
   "metadata": {},
   "source": [
    "model = AgglomerativeClustering(n_clusters=knee_locator.elbow, metric='euclidean', linkage='ward')\n",
    "labels = model.fit_predict(scaled_df)\n",
    "df['Cluster'] = labels\n",
    "df.head()"
   ]
  },
  {
   "cell_type": "code",
   "execution_count": null,
   "metadata": {},
   "outputs": [],
   "source": [
    "df.groupby('Cluster').agg(count=('Cluster', 'count'), \n",
    "                          Income=('Income', 'mean'),\n",
    "                          MntWines=('MntWines', 'mean'),\n",
    "                          MntFruits=('MntFruits', 'mean'),\n",
    "                          MntMeatProducts=('MntMeatProducts', 'mean'),\n",
    "                          MntFishProducts=('MntFishProducts', 'mean'),\n",
    "                          NumDealsPurchases=('NumDealsPurchases', 'mean'),\n",
    "                          NumWebPurchases=('NumWebPurchases', 'mean'),\n",
    "                          NumCatalogPurchases=('NumCatalogPurchases', 'mean'),\n",
    "                          NumStorePurchases=('NumStorePurchases', 'mean'),\n",
    "                          NumWebVisitsMonth=('NumWebVisitsMonth', 'mean'),\n",
    "                          Age=('Age', 'mean'),\n",
    "                          TotalSpent=('Spent', 'mean'), \n",
    "                          isParent=('Parent', 'mean'),\n",
    "                          TotalChildren=('Children', 'mean'),\n",
    "                          FamilySize=('famSize', 'mean'),\n",
    "                          EnrollYear=('EnrollYear', 'mean'),\n",
    "                          )"
   ]
  },
  {
   "cell_type": "code",
   "execution_count": null,
   "metadata": {},
   "outputs": [],
   "source": [
    "g = sns.pairplot(df[['Cluster', 'MntWines', 'MntFruits', 'MntMeatProducts', 'MntFishProducts', 'MntSweetProducts', 'MntGoldProds']], hue='Cluster', palette='Set1', height=1.5)\n",
    "for ax in g.axes.flatten():\n",
    "    ax.set_xlabel(ax.get_xlabel(), rotation=-30)\n",
    "    ax.set_ylabel(ax.get_ylabel(), rotation=0)\n",
    "    ax.yaxis.get_label().set_horizontalalignment('right')\n",
    "plt.show()"
   ]
  },
  {
   "cell_type": "code",
   "execution_count": null,
   "metadata": {},
   "outputs": [],
   "source": [
    "g = sns.pairplot(df[['Cluster', 'NumDealsPurchases', 'NumWebPurchases', 'NumCatalogPurchases', 'NumStorePurchases', 'NumWebVisitsMonth', 'Spent', 'Income']], hue='Cluster', palette='Set1', height=1.5)\n",
    "for ax in g.axes.flatten():\n",
    "    ax.set_xlabel(ax.get_xlabel(), rotation=-30)\n",
    "    ax.set_ylabel(ax.get_ylabel(), rotation=0)\n",
    "    ax.yaxis.get_label().set_horizontalalignment('right')\n",
    "plt.show()"
   ]
  },
  {
   "cell_type": "code",
   "execution_count": null,
   "metadata": {},
   "outputs": [],
   "source": [
    "g = sns.pairplot(df[['Cluster', 'Education', 'Age', 'famSize', 'Parent', 'Spent', 'Income']], hue='Cluster', palette='Set1', height=1.5)\n",
    "for ax in g.axes.flatten():\n",
    "    ax.set_xlabel(ax.get_xlabel(), rotation=-30)\n",
    "    ax.set_ylabel(ax.get_ylabel(), rotation=0)\n",
    "    ax.yaxis.get_label().set_horizontalalignment('right')\n",
    "plt.show()"
   ]
  },
  {
   "cell_type": "code",
   "execution_count": null,
   "metadata": {},
   "outputs": [],
   "source": [
    "# Visualisation of clusters distribution\n",
    "sns.countplot(x='Cluster', data=df, palette='Set1')\n",
    "plt.show()"
   ]
  },
  {
   "cell_type": "code",
   "execution_count": null,
   "metadata": {},
   "outputs": [],
   "source": [
    "# Describing Spent and Income\n",
    "df.groupby('Cluster')[['Spent', 'Income']].describe().transpose()"
   ]
  },
  {
   "cell_type": "code",
   "execution_count": null,
   "metadata": {},
   "outputs": [],
   "source": [
    "# Visualisation for \"Family\" column with \"Spent\" column\n",
    "fig, ax = plt.subplots(1, 2, figsize=(20, 8))\n",
    "sns.boxplot(x='Cluster', y='Spent', data=df, ax=ax[0], palette='Set1')\n",
    "sns.boxplot(x='Cluster', y='famSize', data=df, ax=ax[1], palette='Set1')\n",
    "plt.show()"
   ]
  },
  {
   "cell_type": "code",
   "execution_count": null,
   "metadata": {},
   "outputs": [],
   "source": [
    "sns.scatterplot(x='TotalSpent', y='Income', hue='Cluster', data=df, palette='Set1')\n",
    "plt.show()"
   ]
  },
  {
   "cell_type": "markdown",
   "metadata": {},
   "source": [
    "# Conclusion\n",
    "\n",
    "We have three clusters, and in Cluster 1, there is the highest number of customers. However, they also have the lowest average total spending and income. In contrast, Cluster 0 has the highest average total spending and income but the smallest family size. This suggests a relationship between family size and total spending, where larger families tend to spend less, and vice versa."
   ]
  }
 ],
 "metadata": {
  "kernelspec": {
   "display_name": "base",
   "language": "python",
   "name": "python3"
  },
  "language_info": {
   "codemirror_mode": {
    "name": "ipython",
    "version": 3
   },
   "file_extension": ".py",
   "mimetype": "text/x-python",
   "name": "python",
   "nbconvert_exporter": "python",
   "pygments_lexer": "ipython3",
   "version": "3.9.12"
  },
  "orig_nbformat": 4
 },
 "nbformat": 4,
 "nbformat_minor": 2
}
